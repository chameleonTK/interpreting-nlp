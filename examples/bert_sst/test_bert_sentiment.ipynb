{
 "cells": [
  {
   "cell_type": "markdown",
   "metadata": {},
   "source": [
    "# Bert Sentiment Test"
   ]
  },
  {
   "cell_type": "code",
   "execution_count": 1,
   "metadata": {},
   "outputs": [],
   "source": [
    "import sys\n",
    "sys.path.append(\"../..\")"
   ]
  },
  {
   "cell_type": "code",
   "execution_count": 2,
   "metadata": {},
   "outputs": [],
   "source": [
    "import numpy as np\n",
    "import torch\n",
    "from IPython.core.display import display, HTML\n",
    "from transformers import BertTokenizer\n",
    "\n",
    "from modules.lrp_bert_modules import LRPBertForSequenceClassification\n",
    "from visualization.heatmap import html_heatmap"
   ]
  },
  {
   "cell_type": "markdown",
   "metadata": {},
   "source": [
    "Load model"
   ]
  },
  {
   "cell_type": "code",
   "execution_count": 3,
   "metadata": {},
   "outputs": [
    {
     "name": "stdout",
     "output_type": "stream",
     "text": [
      "Loading model...\n",
      "Done.\n"
     ]
    }
   ],
   "source": [
    "print(\"Loading model...\")\n",
    "config_path = \"bert-sst-config.pt\"\n",
    "state_dict_path = \"bert-sst.pt\"\n",
    "\n",
    "tokenizer = BertTokenizer.from_pretrained(\"bert-base-uncased\")\n",
    "model = LRPBertForSequenceClassification(torch.load(config_path))\n",
    "model.load_state_dict(torch.load(state_dict_path))\n",
    "model.eval()\n",
    "print(\"Done.\")"
   ]
  },
  {
   "cell_type": "markdown",
   "metadata": {},
   "source": [
    "Set up example"
   ]
  },
  {
   "cell_type": "code",
   "execution_count": 4,
   "metadata": {},
   "outputs": [],
   "source": [
    "test_example = \"It's a lovely film with wonderful performances by Buy and \" \\\n",
    "               \"Accorsi.\""
   ]
  },
  {
   "cell_type": "markdown",
   "metadata": {},
   "source": [
    "Run normal forward pass"
   ]
  },
  {
   "cell_type": "code",
   "execution_count": 5,
   "metadata": {},
   "outputs": [
    {
     "name": "stdout",
     "output_type": "stream",
     "text": [
      "Logit Scores:\n",
      "<unk>: -1.5717359781265259\n",
      "positive: 4.663201332092285\n",
      "negative: -2.0962235927581787\n",
      "neutral: 0.019476696848869324\n"
     ]
    }
   ],
   "source": [
    "model.eval()\n",
    "inputs = tokenizer(test_example, return_tensors=\"pt\")\n",
    "logits = model(**inputs).logits.squeeze()\n",
    "    \n",
    "classes = [\"<unk>\", \"positive\", \"negative\", \"neutral\"]\n",
    "print(\"Logit Scores:\")\n",
    "for c, score in zip(classes, logits):\n",
    "    print(\"{}: {}\".format(c, score))"
   ]
  },
  {
   "cell_type": "markdown",
   "metadata": {},
   "source": [
    "Run attribution forward pass"
   ]
  },
  {
   "cell_type": "code",
   "execution_count": 6,
   "metadata": {},
   "outputs": [
    {
     "name": "stdout",
     "output_type": "stream",
     "text": [
      "Attr Forward Pass Output:\n",
      "[[-1.5717361   4.6632013  -2.0962234   0.01947674]]\n"
     ]
    }
   ],
   "source": [
    "inputs = tokenizer(test_example, return_tensors=\"pt\")\n",
    "model.attr()\n",
    "output = model(**inputs)\n",
    "\n",
    "print(\"Attr Forward Pass Output:\")\n",
    "print(output)"
   ]
  },
  {
   "cell_type": "markdown",
   "metadata": {},
   "source": [
    "Run LRP"
   ]
  },
  {
   "cell_type": "code",
   "execution_count": 7,
   "metadata": {},
   "outputs": [
    {
     "name": "stdout",
     "output_type": "stream",
     "text": [
      "LRP Scores:\n",
      "it: -0.009148062355514672\n",
      "': 0.00985649027484873\n",
      "s: -0.0747943180514573\n",
      "a: 0.04013702449254106\n",
      "lovely: 0.48535738153882185\n",
      "film: 0.06023086501874836\n",
      "with: -0.08558094113996871\n",
      "wonderful: 0.6364255271844168\n",
      "performances: -0.06974794971072315\n",
      "by: 0.16045594305917155\n",
      "buy: 0.05446581661034733\n",
      "and: 0.010504063357492247\n",
      "acc: -0.003813851857354434\n",
      "##ors: 0.04295817040922448\n",
      "##i: -0.030305667038154877\n",
      ".: 0.06092527771290372\n",
      "Relevance of word embeddings:\n"
     ]
    },
    {
     "data": {
      "text/html": [
       "<span style=\"color:#d2dae7;font-weight:bold;background-color: #ffffff;padding-top: 15px;padding-bottom: 15px;\"> it </span> <span style=\"color:#dddcdb;font-weight:bold;background-color: #ffffff;padding-top: 15px;padding-bottom: 15px;\"> ' </span> <span style=\"color:#c7d6f0;font-weight:bold;background-color: #ffffff;padding-top: 15px;padding-bottom: 15px;\"> s </span> <span style=\"color:#e7d6cd;font-weight:bold;background-color: #ffffff;padding-top: 15px;padding-bottom: 15px;\"> a </span> <span style=\"color:#b30326;font-weight:bold;background-color: #ffffff;padding-top: 15px;padding-bottom: 15px;\"> lovely </span> <span style=\"color:#ecd1c3;font-weight:bold;background-color: #ffffff;padding-top: 15px;padding-bottom: 15px;\"> film </span> <span style=\"color:#bcd1f6;font-weight:bold;background-color: #ffffff;padding-top: 15px;padding-bottom: 15px;\"> with </span> <span style=\"color:#c22d31;font-weight:bold;background-color: #ffffff;padding-top: 15px;padding-bottom: 15px;\"> wonderful </span> <span style=\"color:#4d67d7;font-weight:bold;background-color: #ffffff;padding-top: 15px;padding-bottom: 15px;\"> performances </span> <span style=\"color:#f0ccb9;font-weight:bold;background-color: #ffffff;padding-top: 15px;padding-bottom: 15px;\"> by </span> <span style=\"color:#e3d9d3;font-weight:bold;background-color: #ffffff;padding-top: 15px;padding-bottom: 15px;\"> buy </span> <span style=\"color:#d7dbe2;font-weight:bold;background-color: #ffffff;padding-top: 15px;padding-bottom: 15px;\"> and </span> <span style=\"color:#d6dbe4;font-weight:bold;background-color: #ffffff;padding-top: 15px;padding-bottom: 15px;\"> acc </span> <span style=\"color:#e0dad7;font-weight:bold;background-color: #ffffff;padding-top: 15px;padding-bottom: 15px;\"> ##ors </span> <span style=\"color:#cfd9ea;font-weight:bold;background-color: #ffffff;padding-top: 15px;padding-bottom: 15px;\"> ##i </span> <span style=\"color:#ecd2c4;font-weight:bold;background-color: #ffffff;padding-top: 15px;padding-bottom: 15px;\"> . </span> "
      ],
      "text/plain": [
       "<IPython.core.display.HTML object>"
      ]
     },
     "metadata": {},
     "output_type": "display_data"
    },
    {
     "name": "stdout",
     "output_type": "stream",
     "text": [
      "Relevance of positional embeddings:\n"
     ]
    },
    {
     "data": {
      "text/html": [
       "<span style=\"color:#dfdbd9;font-weight:bold;background-color: #ffffff;padding-top: 15px;padding-bottom: 15px;\"> it </span> <span style=\"color:#dbdcde;font-weight:bold;background-color: #ffffff;padding-top: 15px;padding-bottom: 15px;\"> ' </span> <span style=\"color:#c7d6f0;font-weight:bold;background-color: #ffffff;padding-top: 15px;padding-bottom: 15px;\"> s </span> <span style=\"color:#ced9eb;font-weight:bold;background-color: #ffffff;padding-top: 15px;padding-bottom: 15px;\"> a </span> <span style=\"color:#c9d7ee;font-weight:bold;background-color: #ffffff;padding-top: 15px;padding-bottom: 15px;\"> lovely </span> <span style=\"color:#d2dae7;font-weight:bold;background-color: #ffffff;padding-top: 15px;padding-bottom: 15px;\"> film </span> <span style=\"color:#ced9eb;font-weight:bold;background-color: #ffffff;padding-top: 15px;padding-bottom: 15px;\"> with </span> <span style=\"color:#edcfc0;font-weight:bold;background-color: #ffffff;padding-top: 15px;padding-bottom: 15px;\"> wonderful </span> <span style=\"color:#b30326;font-weight:bold;background-color: #ffffff;padding-top: 15px;padding-bottom: 15px;\"> performances </span> <span style=\"color:#e1dad6;font-weight:bold;background-color: #ffffff;padding-top: 15px;padding-bottom: 15px;\"> by </span> <span style=\"color:#dfdbd9;font-weight:bold;background-color: #ffffff;padding-top: 15px;padding-bottom: 15px;\"> buy </span> <span style=\"color:#dcdcdd;font-weight:bold;background-color: #ffffff;padding-top: 15px;padding-bottom: 15px;\"> and </span> <span style=\"color:#dfdbd9;font-weight:bold;background-color: #ffffff;padding-top: 15px;padding-bottom: 15px;\"> acc </span> <span style=\"color:#dcdcdd;font-weight:bold;background-color: #ffffff;padding-top: 15px;padding-bottom: 15px;\"> ##ors </span> <span style=\"color:#dadcdf;font-weight:bold;background-color: #ffffff;padding-top: 15px;padding-bottom: 15px;\"> ##i </span> <span style=\"color:#cfd9ea;font-weight:bold;background-color: #ffffff;padding-top: 15px;padding-bottom: 15px;\"> . </span> "
      ],
      "text/plain": [
       "<IPython.core.display.HTML object>"
      ]
     },
     "metadata": {},
     "output_type": "display_data"
    },
    {
     "name": "stdout",
     "output_type": "stream",
     "text": [
      "Relevance of type embeddings:\n"
     ]
    },
    {
     "data": {
      "text/html": [
       "<span style=\"color:#e1dad6;font-weight:bold;background-color: #ffffff;padding-top: 15px;padding-bottom: 15px;\"> it </span> <span style=\"color:#e0dad7;font-weight:bold;background-color: #ffffff;padding-top: 15px;padding-bottom: 15px;\"> ' </span> <span style=\"color:#ecd1c3;font-weight:bold;background-color: #ffffff;padding-top: 15px;padding-bottom: 15px;\"> s </span> <span style=\"color:#e3d9d3;font-weight:bold;background-color: #ffffff;padding-top: 15px;padding-bottom: 15px;\"> a </span> <span style=\"color:#a3c1fe;font-weight:bold;background-color: #ffffff;padding-top: 15px;padding-bottom: 15px;\"> lovely </span> <span style=\"color:#d9dce0;font-weight:bold;background-color: #ffffff;padding-top: 15px;padding-bottom: 15px;\"> film </span> <span style=\"color:#ecd1c3;font-weight:bold;background-color: #ffffff;padding-top: 15px;padding-bottom: 15px;\"> with </span> <span style=\"color:#3a4cc0;font-weight:bold;background-color: #ffffff;padding-top: 15px;padding-bottom: 15px;\"> wonderful </span> <span style=\"color:#e06650;font-weight:bold;background-color: #ffffff;padding-top: 15px;padding-bottom: 15px;\"> performances </span> <span style=\"color:#e7d6cd;font-weight:bold;background-color: #ffffff;padding-top: 15px;padding-bottom: 15px;\"> by </span> <span style=\"color:#e3d9d3;font-weight:bold;background-color: #ffffff;padding-top: 15px;padding-bottom: 15px;\"> buy </span> <span style=\"color:#e5d8d0;font-weight:bold;background-color: #ffffff;padding-top: 15px;padding-bottom: 15px;\"> and </span> <span style=\"color:#dcdcdd;font-weight:bold;background-color: #ffffff;padding-top: 15px;padding-bottom: 15px;\"> acc </span> <span style=\"color:#dedbda;font-weight:bold;background-color: #ffffff;padding-top: 15px;padding-bottom: 15px;\"> ##ors </span> <span style=\"color:#dcdcdd;font-weight:bold;background-color: #ffffff;padding-top: 15px;padding-bottom: 15px;\"> ##i </span> <span style=\"color:#d5dbe5;font-weight:bold;background-color: #ffffff;padding-top: 15px;padding-bottom: 15px;\"> . </span> "
      ],
      "text/plain": [
       "<IPython.core.display.HTML object>"
      ]
     },
     "metadata": {},
     "output_type": "display_data"
    },
    {
     "name": "stdout",
     "output_type": "stream",
     "text": [
      "Relevance of combined embeddings:\n"
     ]
    },
    {
     "data": {
      "text/html": [
       "<span style=\"color:#dbdcde;font-weight:bold;background-color: #ffffff;padding-top: 15px;padding-bottom: 15px;\"> it </span> <span style=\"color:#dedbda;font-weight:bold;background-color: #ffffff;padding-top: 15px;padding-bottom: 15px;\"> ' </span> <span style=\"color:#ccd8ed;font-weight:bold;background-color: #ffffff;padding-top: 15px;padding-bottom: 15px;\"> s </span> <span style=\"color:#e5d8d0;font-weight:bold;background-color: #ffffff;padding-top: 15px;padding-bottom: 15px;\"> a </span> <span style=\"color:#db5c4a;font-weight:bold;background-color: #ffffff;padding-top: 15px;padding-bottom: 15px;\"> lovely </span> <span style=\"color:#e8d5ca;font-weight:bold;background-color: #ffffff;padding-top: 15px;padding-bottom: 15px;\"> film </span> <span style=\"color:#c9d7ee;font-weight:bold;background-color: #ffffff;padding-top: 15px;padding-bottom: 15px;\"> with </span> <span style=\"color:#b30326;font-weight:bold;background-color: #ffffff;padding-top: 15px;padding-bottom: 15px;\"> wonderful </span> <span style=\"color:#cdd9ec;font-weight:bold;background-color: #ffffff;padding-top: 15px;padding-bottom: 15px;\"> performances </span> <span style=\"color:#f4c3ab;font-weight:bold;background-color: #ffffff;padding-top: 15px;padding-bottom: 15px;\"> by </span> <span style=\"color:#e7d6cd;font-weight:bold;background-color: #ffffff;padding-top: 15px;padding-bottom: 15px;\"> buy </span> <span style=\"color:#dfdbd9;font-weight:bold;background-color: #ffffff;padding-top: 15px;padding-bottom: 15px;\"> and </span> <span style=\"color:#dcdcdd;font-weight:bold;background-color: #ffffff;padding-top: 15px;padding-bottom: 15px;\"> acc </span> <span style=\"color:#e5d8d0;font-weight:bold;background-color: #ffffff;padding-top: 15px;padding-bottom: 15px;\"> ##ors </span> <span style=\"color:#d6dbe4;font-weight:bold;background-color: #ffffff;padding-top: 15px;padding-bottom: 15px;\"> ##i </span> <span style=\"color:#e8d5ca;font-weight:bold;background-color: #ffffff;padding-top: 15px;padding-bottom: 15px;\"> . </span> "
      ],
      "text/plain": [
       "<IPython.core.display.HTML object>"
      ]
     },
     "metadata": {},
     "output_type": "display_data"
    }
   ],
   "source": [
    "tokens = tokenizer.tokenize(test_example)\n",
    "rel_y = np.zeros(output.shape)\n",
    "rel_y[:, 1] = output[:, 1]\n",
    "rel_word, rel_pos, rel_type, rel_embed = model.attr_backward(rel_y, eps=.1)\n",
    "rel_word = np.sum(rel_word[0, 1:-1], -1)\n",
    "rel_pos = np.sum(rel_pos[0, 1:-1], -1)\n",
    "rel_type = np.sum(rel_type[0, 1:-1], -1)\n",
    "rel_embed = np.sum(rel_embed[0, 1:-1], -1)\n",
    "\n",
    "print(\"LRP Scores:\")\n",
    "for t, s in zip(tokens, rel_embed):\n",
    "    print(t, s, sep=\": \")\n",
    "    \n",
    "print(\"Relevance of word embeddings:\")\n",
    "display(HTML(html_heatmap(tokens, list(rel_word))))\n",
    "\n",
    "print(\"Relevance of positional embeddings:\")\n",
    "display(HTML(html_heatmap(tokens, list(rel_pos))))\n",
    "\n",
    "print(\"Relevance of type embeddings:\")\n",
    "display(HTML(html_heatmap(tokens, list(rel_type))))\n",
    "\n",
    "print(\"Relevance of combined embeddings:\")\n",
    "display(HTML(html_heatmap(tokens, list(rel_embed))))"
   ]
  },
  {
   "cell_type": "code",
   "execution_count": null,
   "metadata": {},
   "outputs": [],
   "source": []
  }
 ],
 "metadata": {
  "kernelspec": {
   "display_name": "Python 3",
   "language": "python",
   "name": "python3"
  },
  "language_info": {
   "codemirror_mode": {
    "name": "ipython",
    "version": 3
   },
   "file_extension": ".py",
   "mimetype": "text/x-python",
   "name": "python",
   "nbconvert_exporter": "python",
   "pygments_lexer": "ipython3",
   "version": "3.8.3"
  }
 },
 "nbformat": 4,
 "nbformat_minor": 4
}
